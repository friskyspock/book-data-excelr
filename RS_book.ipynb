{
 "cells": [
  {
   "attachments": {},
   "cell_type": "markdown",
   "metadata": {},
   "source": [
    "# Recommendaation System Assignment\n",
    "## Book data\n",
    "Build a recommender system by using cosine simillarties score."
   ]
  },
  {
   "cell_type": "code",
   "execution_count": 1,
   "metadata": {},
   "outputs": [],
   "source": [
    "import pandas as pd\n",
    "import numpy as np\n",
    "import matplotlib.pyplot as plt\n",
    "import seaborn as sns\n",
    "from wordcloud import WordCloud\n",
    "\n",
    "from sklearn.metrics import pairwise_distances\n",
    "from sklearn.decomposition import TruncatedSVD"
   ]
  },
  {
   "attachments": {},
   "cell_type": "markdown",
   "metadata": {},
   "source": [
    "Checking Encoding of file, Since default encoding wasnt working"
   ]
  },
  {
   "cell_type": "code",
   "execution_count": 2,
   "metadata": {},
   "outputs": [
    {
     "name": "stdout",
     "output_type": "stream",
     "text": [
      "{'encoding': 'ISO-8859-1', 'confidence': 0.720858435715977, 'language': ''}\n"
     ]
    }
   ],
   "source": [
    "import chardet\n",
    "with open('book.csv', 'rb') as file:\n",
    "    print(chardet.detect(file.read()))"
   ]
  },
  {
   "cell_type": "code",
   "execution_count": 3,
   "metadata": {},
   "outputs": [],
   "source": [
    "data = pd.read_csv('book.csv', encoding='iso-8859-1', index_col=0)"
   ]
  },
  {
   "cell_type": "code",
   "execution_count": 4,
   "metadata": {},
   "outputs": [
    {
     "data": {
      "text/html": [
       "<div>\n",
       "<style scoped>\n",
       "    .dataframe tbody tr th:only-of-type {\n",
       "        vertical-align: middle;\n",
       "    }\n",
       "\n",
       "    .dataframe tbody tr th {\n",
       "        vertical-align: top;\n",
       "    }\n",
       "\n",
       "    .dataframe thead th {\n",
       "        text-align: right;\n",
       "    }\n",
       "</style>\n",
       "<table border=\"1\" class=\"dataframe\">\n",
       "  <thead>\n",
       "    <tr style=\"text-align: right;\">\n",
       "      <th></th>\n",
       "      <th>User.ID</th>\n",
       "      <th>Book.Title</th>\n",
       "      <th>Book.Rating</th>\n",
       "    </tr>\n",
       "  </thead>\n",
       "  <tbody>\n",
       "    <tr>\n",
       "      <th>1</th>\n",
       "      <td>276726</td>\n",
       "      <td>Classical Mythology</td>\n",
       "      <td>5</td>\n",
       "    </tr>\n",
       "    <tr>\n",
       "      <th>2</th>\n",
       "      <td>276729</td>\n",
       "      <td>Clara Callan</td>\n",
       "      <td>3</td>\n",
       "    </tr>\n",
       "    <tr>\n",
       "      <th>3</th>\n",
       "      <td>276729</td>\n",
       "      <td>Decision in Normandy</td>\n",
       "      <td>6</td>\n",
       "    </tr>\n",
       "    <tr>\n",
       "      <th>4</th>\n",
       "      <td>276736</td>\n",
       "      <td>Flu: The Story of the Great Influenza Pandemic...</td>\n",
       "      <td>8</td>\n",
       "    </tr>\n",
       "    <tr>\n",
       "      <th>5</th>\n",
       "      <td>276737</td>\n",
       "      <td>The Mummies of Urumchi</td>\n",
       "      <td>6</td>\n",
       "    </tr>\n",
       "  </tbody>\n",
       "</table>\n",
       "</div>"
      ],
      "text/plain": [
       "   User.ID                                         Book.Title  Book.Rating\n",
       "1   276726                                Classical Mythology            5\n",
       "2   276729                                       Clara Callan            3\n",
       "3   276729                               Decision in Normandy            6\n",
       "4   276736  Flu: The Story of the Great Influenza Pandemic...            8\n",
       "5   276737                             The Mummies of Urumchi            6"
      ]
     },
     "execution_count": 4,
     "metadata": {},
     "output_type": "execute_result"
    }
   ],
   "source": [
    "data.head()"
   ]
  },
  {
   "attachments": {},
   "cell_type": "markdown",
   "metadata": {},
   "source": [
    "#### Getting rid of duplicate values"
   ]
  },
  {
   "cell_type": "code",
   "execution_count": 5,
   "metadata": {},
   "outputs": [
    {
     "data": {
      "text/plain": [
       "2"
      ]
     },
     "execution_count": 5,
     "metadata": {},
     "output_type": "execute_result"
    }
   ],
   "source": [
    "data.duplicated().sum()"
   ]
  },
  {
   "cell_type": "code",
   "execution_count": 6,
   "metadata": {},
   "outputs": [],
   "source": [
    "data.drop_duplicates(inplace=True)"
   ]
  },
  {
   "cell_type": "code",
   "execution_count": 7,
   "metadata": {},
   "outputs": [
    {
     "data": {
      "text/plain": [
       "5"
      ]
     },
     "execution_count": 7,
     "metadata": {},
     "output_type": "execute_result"
    }
   ],
   "source": [
    "data.duplicated(['User.ID','Book.Title']).sum()"
   ]
  },
  {
   "cell_type": "code",
   "execution_count": 8,
   "metadata": {},
   "outputs": [],
   "source": [
    "data.drop_duplicates(['User.ID','Book.Title'], inplace=True)"
   ]
  },
  {
   "cell_type": "code",
   "execution_count": 9,
   "metadata": {},
   "outputs": [
    {
     "data": {
      "text/plain": [
       "(9993, 3)"
      ]
     },
     "execution_count": 9,
     "metadata": {},
     "output_type": "execute_result"
    }
   ],
   "source": [
    "data.shape"
   ]
  },
  {
   "attachments": {},
   "cell_type": "markdown",
   "metadata": {},
   "source": [
    "#### Exploring data"
   ]
  },
  {
   "cell_type": "code",
   "execution_count": 10,
   "metadata": {},
   "outputs": [
    {
     "data": {
      "text/plain": [
       "2182"
      ]
     },
     "execution_count": 10,
     "metadata": {},
     "output_type": "execute_result"
    }
   ],
   "source": [
    "data['User.ID'].nunique()"
   ]
  },
  {
   "cell_type": "code",
   "execution_count": 11,
   "metadata": {},
   "outputs": [
    {
     "data": {
      "text/plain": [
       "9659"
      ]
     },
     "execution_count": 11,
     "metadata": {},
     "output_type": "execute_result"
    }
   ],
   "source": [
    "data['Book.Title'].nunique()"
   ]
  },
  {
   "cell_type": "code",
   "execution_count": 12,
   "metadata": {},
   "outputs": [
    {
     "data": {
      "text/plain": [
       "<AxesSubplot:xlabel='Book.Rating', ylabel='count'>"
      ]
     },
     "execution_count": 12,
     "metadata": {},
     "output_type": "execute_result"
    },
    {
     "data": {
      "image/png": "[encoded data removed]",
      "text/plain": [
       "<Figure size 432x288 with 1 Axes>"
      ]
     },
     "metadata": {
      "needs_background": "light"
     },
     "output_type": "display_data"
    }
   ],
   "source": [
    "sns.countplot(data=data, x='Book.Rating')"
   ]
  },
  {
   "cell_type": "code",
   "execution_count": 13,
   "metadata": {},
   "outputs": [
    {
     "data": {
      "text/plain": [
       "(-0.5, 399.5, 199.5, -0.5)"
      ]
     },
     "execution_count": 13,
     "metadata": {},
     "output_type": "execute_result"
    },
    {
     "data": {
      "image/png": "[encoded data removed]",
      "text/plain": [
       "<Figure size 720x720 with 1 Axes>"
      ]
     },
     "metadata": {
      "needs_background": "light"
     },
     "output_type": "display_data"
    }
   ],
   "source": [
    "plt.figure(figsize=(10,10))\n",
    "wordcloud = WordCloud(max_words = 121).generate(str(data['Book.Title']))\n",
    "plt.imshow(wordcloud)\n",
    "plt.axis('off')"
   ]
  },
  {
   "cell_type": "code",
   "execution_count": 14,
   "metadata": {},
   "outputs": [
    {
     "data": {
      "text/plain": [
       "Fahrenheit 451                                              5\n",
       "Ender's Game (Ender Wiggins Saga (Paperback))               4\n",
       "The Amber Spyglass (His Dark Materials, Book 3)             4\n",
       "Vanished                                                    4\n",
       "Stardust                                                    4\n",
       "                                                           ..\n",
       "Murder on St. Mark's Place (Gaslight Mysteries)             1\n",
       "State of Grace                                              1\n",
       "Valsalva's Maneuver: Mots Justes and Indispensable Terms    1\n",
       "I love you, I hate you                                      1\n",
       "Kids Say the Darndest Things                                1\n",
       "Name: Book.Title, Length: 9659, dtype: int64"
      ]
     },
     "execution_count": 14,
     "metadata": {},
     "output_type": "execute_result"
    }
   ],
   "source": [
    "data['Book.Title'].value_counts()"
   ]
  },
  {
   "attachments": {},
   "cell_type": "markdown",
   "metadata": {},
   "source": [
    "### Creating Pivot Table"
   ]
  },
  {
   "cell_type": "code",
   "execution_count": 15,
   "metadata": {},
   "outputs": [
    {
     "data": {
      "text/html": [
       "<div>\n",
       "<style scoped>\n",
       "    .dataframe tbody tr th:only-of-type {\n",
       "        vertical-align: middle;\n",
       "    }\n",
       "\n",
       "    .dataframe tbody tr th {\n",
       "        vertical-align: top;\n",
       "    }\n",
       "\n",
       "    .dataframe thead th {\n",
       "        text-align: right;\n",
       "    }\n",
       "</style>\n",
       "<table border=\"1\" class=\"dataframe\">\n",
       "  <thead>\n",
       "    <tr style=\"text-align: right;\">\n",
       "      <th>Book.Title</th>\n",
       "      <th>Jason, Madison &amp;amp</th>\n",
       "      <th>Other Stories;Merril;1985;McClelland &amp;amp</th>\n",
       "      <th>Repairing PC Drives &amp;amp</th>\n",
       "      <th>'48</th>\n",
       "      <th>'O Au No Keia: Voices from Hawai'I's Mahu and Transgender Communities</th>\n",
       "      <th>...AND THE HORSE HE RODE IN ON : THE PEOPLE V. KENNETH STARR</th>\n",
       "      <th>01-01-00: A Novel of the Millennium</th>\n",
       "      <th>1,401 More Things That P*Ss Me Off</th>\n",
       "      <th>10 Commandments Of Dating</th>\n",
       "      <th>100 Great Fantasy Short, Short Stories</th>\n",
       "      <th>...</th>\n",
       "      <th>Zora Hurston and the Chinaberry Tree (Reading Rainbow Book)</th>\n",
       "      <th>\\Even Monkeys Fall from Trees\\ and Other Japanese Proverbs</th>\n",
       "      <th>\\I Won't Learn from You\\: And Other Thoughts on Creative Maladjustment</th>\n",
       "      <th>\\More More More,\\ Said the Baby</th>\n",
       "      <th>\\O\\ Is for Outlaw</th>\n",
       "      <th>\\Surely You're Joking, Mr. Feynman!\\: Adventures of a Curious Character</th>\n",
       "      <th>\\Well, there's your problem\\: Cartoons</th>\n",
       "      <th>iI Paradiso Degli Orchi</th>\n",
       "      <th>stardust</th>\n",
       "      <th>Ã?Â?bermorgen.</th>\n",
       "    </tr>\n",
       "    <tr>\n",
       "      <th>User.ID</th>\n",
       "      <th></th>\n",
       "      <th></th>\n",
       "      <th></th>\n",
       "      <th></th>\n",
       "      <th></th>\n",
       "      <th></th>\n",
       "      <th></th>\n",
       "      <th></th>\n",
       "      <th></th>\n",
       "      <th></th>\n",
       "      <th></th>\n",
       "      <th></th>\n",
       "      <th></th>\n",
       "      <th></th>\n",
       "      <th></th>\n",
       "      <th></th>\n",
       "      <th></th>\n",
       "      <th></th>\n",
       "      <th></th>\n",
       "      <th></th>\n",
       "      <th></th>\n",
       "    </tr>\n",
       "  </thead>\n",
       "  <tbody>\n",
       "    <tr>\n",
       "      <th>8</th>\n",
       "      <td>0.0</td>\n",
       "      <td>0.0</td>\n",
       "      <td>0.0</td>\n",
       "      <td>0.0</td>\n",
       "      <td>0.0</td>\n",
       "      <td>0.0</td>\n",
       "      <td>0.0</td>\n",
       "      <td>0.0</td>\n",
       "      <td>0.0</td>\n",
       "      <td>0.0</td>\n",
       "      <td>...</td>\n",
       "      <td>0.0</td>\n",
       "      <td>0.0</td>\n",
       "      <td>0.0</td>\n",
       "      <td>0.0</td>\n",
       "      <td>0.0</td>\n",
       "      <td>0.0</td>\n",
       "      <td>0.0</td>\n",
       "      <td>0.0</td>\n",
       "      <td>0.0</td>\n",
       "      <td>0.0</td>\n",
       "    </tr>\n",
       "    <tr>\n",
       "      <th>9</th>\n",
       "      <td>0.0</td>\n",
       "      <td>0.0</td>\n",
       "      <td>0.0</td>\n",
       "      <td>0.0</td>\n",
       "      <td>0.0</td>\n",
       "      <td>0.0</td>\n",
       "      <td>0.0</td>\n",
       "      <td>0.0</td>\n",
       "      <td>0.0</td>\n",
       "      <td>0.0</td>\n",
       "      <td>...</td>\n",
       "      <td>0.0</td>\n",
       "      <td>0.0</td>\n",
       "      <td>0.0</td>\n",
       "      <td>0.0</td>\n",
       "      <td>0.0</td>\n",
       "      <td>0.0</td>\n",
       "      <td>0.0</td>\n",
       "      <td>0.0</td>\n",
       "      <td>0.0</td>\n",
       "      <td>0.0</td>\n",
       "    </tr>\n",
       "    <tr>\n",
       "      <th>10</th>\n",
       "      <td>0.0</td>\n",
       "      <td>0.0</td>\n",
       "      <td>0.0</td>\n",
       "      <td>0.0</td>\n",
       "      <td>0.0</td>\n",
       "      <td>0.0</td>\n",
       "      <td>0.0</td>\n",
       "      <td>0.0</td>\n",
       "      <td>0.0</td>\n",
       "      <td>0.0</td>\n",
       "      <td>...</td>\n",
       "      <td>0.0</td>\n",
       "      <td>0.0</td>\n",
       "      <td>0.0</td>\n",
       "      <td>0.0</td>\n",
       "      <td>0.0</td>\n",
       "      <td>0.0</td>\n",
       "      <td>0.0</td>\n",
       "      <td>0.0</td>\n",
       "      <td>0.0</td>\n",
       "      <td>0.0</td>\n",
       "    </tr>\n",
       "    <tr>\n",
       "      <th>12</th>\n",
       "      <td>0.0</td>\n",
       "      <td>0.0</td>\n",
       "      <td>0.0</td>\n",
       "      <td>0.0</td>\n",
       "      <td>0.0</td>\n",
       "      <td>0.0</td>\n",
       "      <td>0.0</td>\n",
       "      <td>0.0</td>\n",
       "      <td>0.0</td>\n",
       "      <td>0.0</td>\n",
       "      <td>...</td>\n",
       "      <td>0.0</td>\n",
       "      <td>0.0</td>\n",
       "      <td>0.0</td>\n",
       "      <td>0.0</td>\n",
       "      <td>0.0</td>\n",
       "      <td>0.0</td>\n",
       "      <td>0.0</td>\n",
       "      <td>0.0</td>\n",
       "      <td>0.0</td>\n",
       "      <td>0.0</td>\n",
       "    </tr>\n",
       "    <tr>\n",
       "      <th>14</th>\n",
       "      <td>0.0</td>\n",
       "      <td>0.0</td>\n",
       "      <td>0.0</td>\n",
       "      <td>0.0</td>\n",
       "      <td>0.0</td>\n",
       "      <td>0.0</td>\n",
       "      <td>0.0</td>\n",
       "      <td>0.0</td>\n",
       "      <td>0.0</td>\n",
       "      <td>0.0</td>\n",
       "      <td>...</td>\n",
       "      <td>0.0</td>\n",
       "      <td>0.0</td>\n",
       "      <td>0.0</td>\n",
       "      <td>0.0</td>\n",
       "      <td>0.0</td>\n",
       "      <td>0.0</td>\n",
       "      <td>0.0</td>\n",
       "      <td>0.0</td>\n",
       "      <td>0.0</td>\n",
       "      <td>0.0</td>\n",
       "    </tr>\n",
       "    <tr>\n",
       "      <th>...</th>\n",
       "      <td>...</td>\n",
       "      <td>...</td>\n",
       "      <td>...</td>\n",
       "      <td>...</td>\n",
       "      <td>...</td>\n",
       "      <td>...</td>\n",
       "      <td>...</td>\n",
       "      <td>...</td>\n",
       "      <td>...</td>\n",
       "      <td>...</td>\n",
       "      <td>...</td>\n",
       "      <td>...</td>\n",
       "      <td>...</td>\n",
       "      <td>...</td>\n",
       "      <td>...</td>\n",
       "      <td>...</td>\n",
       "      <td>...</td>\n",
       "      <td>...</td>\n",
       "      <td>...</td>\n",
       "      <td>...</td>\n",
       "      <td>...</td>\n",
       "    </tr>\n",
       "    <tr>\n",
       "      <th>278846</th>\n",
       "      <td>0.0</td>\n",
       "      <td>0.0</td>\n",
       "      <td>0.0</td>\n",
       "      <td>0.0</td>\n",
       "      <td>0.0</td>\n",
       "      <td>0.0</td>\n",
       "      <td>0.0</td>\n",
       "      <td>0.0</td>\n",
       "      <td>0.0</td>\n",
       "      <td>0.0</td>\n",
       "      <td>...</td>\n",
       "      <td>0.0</td>\n",
       "      <td>0.0</td>\n",
       "      <td>0.0</td>\n",
       "      <td>0.0</td>\n",
       "      <td>0.0</td>\n",
       "      <td>0.0</td>\n",
       "      <td>0.0</td>\n",
       "      <td>0.0</td>\n",
       "      <td>0.0</td>\n",
       "      <td>0.0</td>\n",
       "    </tr>\n",
       "    <tr>\n",
       "      <th>278849</th>\n",
       "      <td>0.0</td>\n",
       "      <td>0.0</td>\n",
       "      <td>0.0</td>\n",
       "      <td>0.0</td>\n",
       "      <td>0.0</td>\n",
       "      <td>0.0</td>\n",
       "      <td>0.0</td>\n",
       "      <td>0.0</td>\n",
       "      <td>0.0</td>\n",
       "      <td>0.0</td>\n",
       "      <td>...</td>\n",
       "      <td>0.0</td>\n",
       "      <td>0.0</td>\n",
       "      <td>0.0</td>\n",
       "      <td>0.0</td>\n",
       "      <td>0.0</td>\n",
       "      <td>0.0</td>\n",
       "      <td>0.0</td>\n",
       "      <td>0.0</td>\n",
       "      <td>0.0</td>\n",
       "      <td>0.0</td>\n",
       "    </tr>\n",
       "    <tr>\n",
       "      <th>278851</th>\n",
       "      <td>0.0</td>\n",
       "      <td>0.0</td>\n",
       "      <td>0.0</td>\n",
       "      <td>0.0</td>\n",
       "      <td>0.0</td>\n",
       "      <td>0.0</td>\n",
       "      <td>0.0</td>\n",
       "      <td>0.0</td>\n",
       "      <td>0.0</td>\n",
       "      <td>0.0</td>\n",
       "      <td>...</td>\n",
       "      <td>0.0</td>\n",
       "      <td>0.0</td>\n",
       "      <td>0.0</td>\n",
       "      <td>0.0</td>\n",
       "      <td>0.0</td>\n",
       "      <td>0.0</td>\n",
       "      <td>0.0</td>\n",
       "      <td>7.0</td>\n",
       "      <td>0.0</td>\n",
       "      <td>0.0</td>\n",
       "    </tr>\n",
       "    <tr>\n",
       "      <th>278852</th>\n",
       "      <td>0.0</td>\n",
       "      <td>0.0</td>\n",
       "      <td>0.0</td>\n",
       "      <td>0.0</td>\n",
       "      <td>0.0</td>\n",
       "      <td>0.0</td>\n",
       "      <td>0.0</td>\n",
       "      <td>0.0</td>\n",
       "      <td>0.0</td>\n",
       "      <td>0.0</td>\n",
       "      <td>...</td>\n",
       "      <td>0.0</td>\n",
       "      <td>0.0</td>\n",
       "      <td>0.0</td>\n",
       "      <td>0.0</td>\n",
       "      <td>0.0</td>\n",
       "      <td>0.0</td>\n",
       "      <td>0.0</td>\n",
       "      <td>0.0</td>\n",
       "      <td>0.0</td>\n",
       "      <td>0.0</td>\n",
       "    </tr>\n",
       "    <tr>\n",
       "      <th>278854</th>\n",
       "      <td>0.0</td>\n",
       "      <td>0.0</td>\n",
       "      <td>0.0</td>\n",
       "      <td>0.0</td>\n",
       "      <td>0.0</td>\n",
       "      <td>0.0</td>\n",
       "      <td>0.0</td>\n",
       "      <td>0.0</td>\n",
       "      <td>0.0</td>\n",
       "      <td>0.0</td>\n",
       "      <td>...</td>\n",
       "      <td>0.0</td>\n",
       "      <td>0.0</td>\n",
       "      <td>0.0</td>\n",
       "      <td>0.0</td>\n",
       "      <td>0.0</td>\n",
       "      <td>0.0</td>\n",
       "      <td>0.0</td>\n",
       "      <td>0.0</td>\n",
       "      <td>0.0</td>\n",
       "      <td>0.0</td>\n",
       "    </tr>\n",
       "  </tbody>\n",
       "</table>\n",
       "<p>2182 rows × 9659 columns</p>\n",
       "</div>"
      ],
      "text/plain": [
       "Book.Title   Jason, Madison &amp   Other Stories;Merril;1985;McClelland &amp  \\\n",
       "User.ID                                                                        \n",
       "8                            0.0                                         0.0   \n",
       "9                            0.0                                         0.0   \n",
       "10                           0.0                                         0.0   \n",
       "12                           0.0                                         0.0   \n",
       "14                           0.0                                         0.0   \n",
       "...                          ...                                         ...   \n",
       "278846                       0.0                                         0.0   \n",
       "278849                       0.0                                         0.0   \n",
       "278851                       0.0                                         0.0   \n",
       "278852                       0.0                                         0.0   \n",
       "278854                       0.0                                         0.0   \n",
       "\n",
       "Book.Title   Repairing PC Drives &amp  '48  \\\n",
       "User.ID                                      \n",
       "8                                 0.0  0.0   \n",
       "9                                 0.0  0.0   \n",
       "10                                0.0  0.0   \n",
       "12                                0.0  0.0   \n",
       "14                                0.0  0.0   \n",
       "...                               ...  ...   \n",
       "278846                            0.0  0.0   \n",
       "278849                            0.0  0.0   \n",
       "278851                            0.0  0.0   \n",
       "278852                            0.0  0.0   \n",
       "278854                            0.0  0.0   \n",
       "\n",
       "Book.Title  'O Au No Keia: Voices from Hawai'I's Mahu and Transgender Communities  \\\n",
       "User.ID                                                                             \n",
       "8                                                         0.0                       \n",
       "9                                                         0.0                       \n",
       "10                                                        0.0                       \n",
       "12                                                        0.0                       \n",
       "14                                                        0.0                       \n",
       "...                                                       ...                       \n",
       "278846                                                    0.0                       \n",
       "278849                                                    0.0                       \n",
       "278851                                                    0.0                       \n",
       "278852                                                    0.0                       \n",
       "278854                                                    0.0                       \n",
       "\n",
       "Book.Title  ...AND THE HORSE HE RODE IN ON : THE PEOPLE V. KENNETH STARR  \\\n",
       "User.ID                                                                    \n",
       "8                                                         0.0              \n",
       "9                                                         0.0              \n",
       "10                                                        0.0              \n",
       "12                                                        0.0              \n",
       "14                                                        0.0              \n",
       "...                                                       ...              \n",
       "278846                                                    0.0              \n",
       "278849                                                    0.0              \n",
       "278851                                                    0.0              \n",
       "278852                                                    0.0              \n",
       "278854                                                    0.0              \n",
       "\n",
       "Book.Title  01-01-00: A Novel of the Millennium  \\\n",
       "User.ID                                           \n",
       "8                                           0.0   \n",
       "9                                           0.0   \n",
       "10                                          0.0   \n",
       "12                                          0.0   \n",
       "14                                          0.0   \n",
       "...                                         ...   \n",
       "278846                                      0.0   \n",
       "278849                                      0.0   \n",
       "278851                                      0.0   \n",
       "278852                                      0.0   \n",
       "278854                                      0.0   \n",
       "\n",
       "Book.Title  1,401 More Things That P*Ss Me Off  10 Commandments Of Dating  \\\n",
       "User.ID                                                                     \n",
       "8                                          0.0                        0.0   \n",
       "9                                          0.0                        0.0   \n",
       "10                                         0.0                        0.0   \n",
       "12                                         0.0                        0.0   \n",
       "14                                         0.0                        0.0   \n",
       "...                                        ...                        ...   \n",
       "278846                                     0.0                        0.0   \n",
       "278849                                     0.0                        0.0   \n",
       "278851                                     0.0                        0.0   \n",
       "278852                                     0.0                        0.0   \n",
       "278854                                     0.0                        0.0   \n",
       "\n",
       "Book.Title  100 Great Fantasy Short, Short Stories  ...  \\\n",
       "User.ID                                             ...   \n",
       "8                                              0.0  ...   \n",
       "9                                              0.0  ...   \n",
       "10                                             0.0  ...   \n",
       "12                                             0.0  ...   \n",
       "14                                             0.0  ...   \n",
       "...                                            ...  ...   \n",
       "278846                                         0.0  ...   \n",
       "278849                                         0.0  ...   \n",
       "278851                                         0.0  ...   \n",
       "278852                                         0.0  ...   \n",
       "278854                                         0.0  ...   \n",
       "\n",
       "Book.Title  Zora Hurston and the Chinaberry Tree (Reading Rainbow Book)  \\\n",
       "User.ID                                                                   \n",
       "8                                                         0.0             \n",
       "9                                                         0.0             \n",
       "10                                                        0.0             \n",
       "12                                                        0.0             \n",
       "14                                                        0.0             \n",
       "...                                                       ...             \n",
       "278846                                                    0.0             \n",
       "278849                                                    0.0             \n",
       "278851                                                    0.0             \n",
       "278852                                                    0.0             \n",
       "278854                                                    0.0             \n",
       "\n",
       "Book.Title  \\Even Monkeys Fall from Trees\\ and Other Japanese Proverbs  \\\n",
       "User.ID                                                                  \n",
       "8                                                         0.0            \n",
       "9                                                         0.0            \n",
       "10                                                        0.0            \n",
       "12                                                        0.0            \n",
       "14                                                        0.0            \n",
       "...                                                       ...            \n",
       "278846                                                    0.0            \n",
       "278849                                                    0.0            \n",
       "278851                                                    0.0            \n",
       "278852                                                    0.0            \n",
       "278854                                                    0.0            \n",
       "\n",
       "Book.Title  \\I Won't Learn from You\\: And Other Thoughts on Creative Maladjustment  \\\n",
       "User.ID                                                                              \n",
       "8                                                         0.0                        \n",
       "9                                                         0.0                        \n",
       "10                                                        0.0                        \n",
       "12                                                        0.0                        \n",
       "14                                                        0.0                        \n",
       "...                                                       ...                        \n",
       "278846                                                    0.0                        \n",
       "278849                                                    0.0                        \n",
       "278851                                                    0.0                        \n",
       "278852                                                    0.0                        \n",
       "278854                                                    0.0                        \n",
       "\n",
       "Book.Title  \\More More More,\\ Said the Baby  \\O\\ Is for Outlaw  \\\n",
       "User.ID                                                          \n",
       "8                                       0.0                0.0   \n",
       "9                                       0.0                0.0   \n",
       "10                                      0.0                0.0   \n",
       "12                                      0.0                0.0   \n",
       "14                                      0.0                0.0   \n",
       "...                                     ...                ...   \n",
       "278846                                  0.0                0.0   \n",
       "278849                                  0.0                0.0   \n",
       "278851                                  0.0                0.0   \n",
       "278852                                  0.0                0.0   \n",
       "278854                                  0.0                0.0   \n",
       "\n",
       "Book.Title  \\Surely You're Joking, Mr. Feynman!\\: Adventures of a Curious Character  \\\n",
       "User.ID                                                                               \n",
       "8                                                         0.0                         \n",
       "9                                                         0.0                         \n",
       "10                                                        0.0                         \n",
       "12                                                        0.0                         \n",
       "14                                                        0.0                         \n",
       "...                                                       ...                         \n",
       "278846                                                    0.0                         \n",
       "278849                                                    0.0                         \n",
       "278851                                                    0.0                         \n",
       "278852                                                    0.0                         \n",
       "278854                                                    0.0                         \n",
       "\n",
       "Book.Title  \\Well, there's your problem\\: Cartoons  iI Paradiso Degli Orchi  \\\n",
       "User.ID                                                                       \n",
       "8                                              0.0                      0.0   \n",
       "9                                              0.0                      0.0   \n",
       "10                                             0.0                      0.0   \n",
       "12                                             0.0                      0.0   \n",
       "14                                             0.0                      0.0   \n",
       "...                                            ...                      ...   \n",
       "278846                                         0.0                      0.0   \n",
       "278849                                         0.0                      0.0   \n",
       "278851                                         0.0                      7.0   \n",
       "278852                                         0.0                      0.0   \n",
       "278854                                         0.0                      0.0   \n",
       "\n",
       "Book.Title  stardust  Ã?Â?bermorgen.  \n",
       "User.ID                               \n",
       "8                0.0             0.0  \n",
       "9                0.0             0.0  \n",
       "10               0.0             0.0  \n",
       "12               0.0             0.0  \n",
       "14               0.0             0.0  \n",
       "...              ...             ...  \n",
       "278846           0.0             0.0  \n",
       "278849           0.0             0.0  \n",
       "278851           0.0             0.0  \n",
       "278852           0.0             0.0  \n",
       "278854           0.0             0.0  \n",
       "\n",
       "[2182 rows x 9659 columns]"
      ]
     },
     "execution_count": 15,
     "metadata": {},
     "output_type": "execute_result"
    }
   ],
   "source": [
    "user_data = data.pivot(index='User.ID', columns='Book.Title', values='Book.Rating').fillna(0)\n",
    "user_data"
   ]
  },
  {
   "attachments": {},
   "cell_type": "markdown",
   "metadata": {},
   "source": [
    "### Recommendation based on cosine similarity"
   ]
  },
  {
   "cell_type": "code",
   "execution_count": 16,
   "metadata": {},
   "outputs": [
    {
     "data": {
      "text/plain": [
       "array([[1., 0., 0., ..., 0., 0., 0.],\n",
       "       [0., 1., 0., ..., 0., 0., 0.],\n",
       "       [0., 0., 1., ..., 0., 0., 0.],\n",
       "       ...,\n",
       "       [0., 0., 0., ..., 1., 0., 0.],\n",
       "       [0., 0., 0., ..., 0., 1., 0.],\n",
       "       [0., 0., 0., ..., 0., 0., 1.]])"
      ]
     },
     "execution_count": 16,
     "metadata": {},
     "output_type": "execute_result"
    }
   ],
   "source": [
    "user_sim = 1- pairwise_distances(user_data.values, metric='cosine')\n",
    "user_sim"
   ]
  },
  {
   "cell_type": "code",
   "execution_count": 17,
   "metadata": {},
   "outputs": [
    {
     "data": {
      "text/plain": [
       "array([[0., 0., 0., ..., 0., 0., 0.],\n",
       "       [0., 0., 0., ..., 0., 0., 0.],\n",
       "       [0., 0., 0., ..., 0., 0., 0.],\n",
       "       ...,\n",
       "       [0., 0., 0., ..., 0., 0., 0.],\n",
       "       [0., 0., 0., ..., 0., 0., 0.],\n",
       "       [0., 0., 0., ..., 0., 0., 0.]])"
      ]
     },
     "execution_count": 17,
     "metadata": {},
     "output_type": "execute_result"
    }
   ],
   "source": [
    "np.fill_diagonal(user_sim, 0)\n",
    "user_sim"
   ]
  },
  {
   "cell_type": "code",
   "execution_count": 18,
   "metadata": {},
   "outputs": [
    {
     "data": {
      "text/html": [
       "<div>\n",
       "<style scoped>\n",
       "    .dataframe tbody tr th:only-of-type {\n",
       "        vertical-align: middle;\n",
       "    }\n",
       "\n",
       "    .dataframe tbody tr th {\n",
       "        vertical-align: top;\n",
       "    }\n",
       "\n",
       "    .dataframe thead th {\n",
       "        text-align: right;\n",
       "    }\n",
       "</style>\n",
       "<table border=\"1\" class=\"dataframe\">\n",
       "  <thead>\n",
       "    <tr style=\"text-align: right;\">\n",
       "      <th></th>\n",
       "      <th>276726</th>\n",
       "      <th>276729</th>\n",
       "      <th>276736</th>\n",
       "      <th>276737</th>\n",
       "      <th>276744</th>\n",
       "      <th>276745</th>\n",
       "      <th>276747</th>\n",
       "      <th>276748</th>\n",
       "      <th>276751</th>\n",
       "      <th>276754</th>\n",
       "      <th>...</th>\n",
       "      <th>162085</th>\n",
       "      <th>162091</th>\n",
       "      <th>162092</th>\n",
       "      <th>162095</th>\n",
       "      <th>162103</th>\n",
       "      <th>162107</th>\n",
       "      <th>162109</th>\n",
       "      <th>162113</th>\n",
       "      <th>162121</th>\n",
       "      <th>162129</th>\n",
       "    </tr>\n",
       "  </thead>\n",
       "  <tbody>\n",
       "    <tr>\n",
       "      <th>276726</th>\n",
       "      <td>0.0</td>\n",
       "      <td>0.0</td>\n",
       "      <td>0.0</td>\n",
       "      <td>0.0</td>\n",
       "      <td>0.0</td>\n",
       "      <td>0.0</td>\n",
       "      <td>0.0</td>\n",
       "      <td>0.0</td>\n",
       "      <td>0.0</td>\n",
       "      <td>0.0</td>\n",
       "      <td>...</td>\n",
       "      <td>0.0</td>\n",
       "      <td>0.0</td>\n",
       "      <td>0.0</td>\n",
       "      <td>0.0</td>\n",
       "      <td>0.0</td>\n",
       "      <td>0.0</td>\n",
       "      <td>0.0</td>\n",
       "      <td>0.0</td>\n",
       "      <td>0.0</td>\n",
       "      <td>0.0</td>\n",
       "    </tr>\n",
       "    <tr>\n",
       "      <th>276729</th>\n",
       "      <td>0.0</td>\n",
       "      <td>0.0</td>\n",
       "      <td>0.0</td>\n",
       "      <td>0.0</td>\n",
       "      <td>0.0</td>\n",
       "      <td>0.0</td>\n",
       "      <td>0.0</td>\n",
       "      <td>0.0</td>\n",
       "      <td>0.0</td>\n",
       "      <td>0.0</td>\n",
       "      <td>...</td>\n",
       "      <td>0.0</td>\n",
       "      <td>0.0</td>\n",
       "      <td>0.0</td>\n",
       "      <td>0.0</td>\n",
       "      <td>0.0</td>\n",
       "      <td>0.0</td>\n",
       "      <td>0.0</td>\n",
       "      <td>0.0</td>\n",
       "      <td>0.0</td>\n",
       "      <td>0.0</td>\n",
       "    </tr>\n",
       "    <tr>\n",
       "      <th>276736</th>\n",
       "      <td>0.0</td>\n",
       "      <td>0.0</td>\n",
       "      <td>0.0</td>\n",
       "      <td>0.0</td>\n",
       "      <td>0.0</td>\n",
       "      <td>0.0</td>\n",
       "      <td>0.0</td>\n",
       "      <td>0.0</td>\n",
       "      <td>0.0</td>\n",
       "      <td>0.0</td>\n",
       "      <td>...</td>\n",
       "      <td>0.0</td>\n",
       "      <td>0.0</td>\n",
       "      <td>0.0</td>\n",
       "      <td>0.0</td>\n",
       "      <td>0.0</td>\n",
       "      <td>0.0</td>\n",
       "      <td>0.0</td>\n",
       "      <td>0.0</td>\n",
       "      <td>0.0</td>\n",
       "      <td>0.0</td>\n",
       "    </tr>\n",
       "    <tr>\n",
       "      <th>276737</th>\n",
       "      <td>0.0</td>\n",
       "      <td>0.0</td>\n",
       "      <td>0.0</td>\n",
       "      <td>0.0</td>\n",
       "      <td>0.0</td>\n",
       "      <td>0.0</td>\n",
       "      <td>0.0</td>\n",
       "      <td>0.0</td>\n",
       "      <td>0.0</td>\n",
       "      <td>0.0</td>\n",
       "      <td>...</td>\n",
       "      <td>0.0</td>\n",
       "      <td>0.0</td>\n",
       "      <td>0.0</td>\n",
       "      <td>0.0</td>\n",
       "      <td>0.0</td>\n",
       "      <td>0.0</td>\n",
       "      <td>0.0</td>\n",
       "      <td>0.0</td>\n",
       "      <td>0.0</td>\n",
       "      <td>0.0</td>\n",
       "    </tr>\n",
       "    <tr>\n",
       "      <th>276744</th>\n",
       "      <td>0.0</td>\n",
       "      <td>0.0</td>\n",
       "      <td>0.0</td>\n",
       "      <td>0.0</td>\n",
       "      <td>0.0</td>\n",
       "      <td>0.0</td>\n",
       "      <td>0.0</td>\n",
       "      <td>0.0</td>\n",
       "      <td>0.0</td>\n",
       "      <td>0.0</td>\n",
       "      <td>...</td>\n",
       "      <td>0.0</td>\n",
       "      <td>0.0</td>\n",
       "      <td>0.0</td>\n",
       "      <td>0.0</td>\n",
       "      <td>0.0</td>\n",
       "      <td>0.0</td>\n",
       "      <td>0.0</td>\n",
       "      <td>0.0</td>\n",
       "      <td>0.0</td>\n",
       "      <td>0.0</td>\n",
       "    </tr>\n",
       "  </tbody>\n",
       "</table>\n",
       "<p>5 rows × 2182 columns</p>\n",
       "</div>"
      ],
      "text/plain": [
       "        276726  276729  276736  276737  276744  276745  276747  276748  \\\n",
       "276726     0.0     0.0     0.0     0.0     0.0     0.0     0.0     0.0   \n",
       "276729     0.0     0.0     0.0     0.0     0.0     0.0     0.0     0.0   \n",
       "276736     0.0     0.0     0.0     0.0     0.0     0.0     0.0     0.0   \n",
       "276737     0.0     0.0     0.0     0.0     0.0     0.0     0.0     0.0   \n",
       "276744     0.0     0.0     0.0     0.0     0.0     0.0     0.0     0.0   \n",
       "\n",
       "        276751  276754  ...  162085  162091  162092  162095  162103  162107  \\\n",
       "276726     0.0     0.0  ...     0.0     0.0     0.0     0.0     0.0     0.0   \n",
       "276729     0.0     0.0  ...     0.0     0.0     0.0     0.0     0.0     0.0   \n",
       "276736     0.0     0.0  ...     0.0     0.0     0.0     0.0     0.0     0.0   \n",
       "276737     0.0     0.0  ...     0.0     0.0     0.0     0.0     0.0     0.0   \n",
       "276744     0.0     0.0  ...     0.0     0.0     0.0     0.0     0.0     0.0   \n",
       "\n",
       "        162109  162113  162121  162129  \n",
       "276726     0.0     0.0     0.0     0.0  \n",
       "276729     0.0     0.0     0.0     0.0  \n",
       "276736     0.0     0.0     0.0     0.0  \n",
       "276737     0.0     0.0     0.0     0.0  \n",
       "276744     0.0     0.0     0.0     0.0  \n",
       "\n",
       "[5 rows x 2182 columns]"
      ]
     },
     "execution_count": 18,
     "metadata": {},
     "output_type": "execute_result"
    }
   ],
   "source": [
    "user_sim_df = pd.DataFrame(user_sim, \n",
    "                           index=data['User.ID'].unique(), \n",
    "                           columns=data['User.ID'].unique())\n",
    "user_sim_df.head()"
   ]
  },
  {
   "cell_type": "code",
   "execution_count": 19,
   "metadata": {},
   "outputs": [
    {
     "data": {
      "text/plain": [
       "3505    0.228717\n",
       "2596    0.195515\n",
       "2996    0.000000\n",
       "2982    0.000000\n",
       "2983    0.000000\n",
       "Name: 162103, dtype: float64"
      ]
     },
     "execution_count": 19,
     "metadata": {},
     "output_type": "execute_result"
    }
   ],
   "source": [
    "user_sim_df.sort_values([162103], ascending=False).head()[162103]"
   ]
  },
  {
   "cell_type": "code",
   "execution_count": 20,
   "metadata": {},
   "outputs": [
    {
     "data": {
      "text/html": [
       "<div>\n",
       "<style scoped>\n",
       "    .dataframe tbody tr th:only-of-type {\n",
       "        vertical-align: middle;\n",
       "    }\n",
       "\n",
       "    .dataframe tbody tr th {\n",
       "        vertical-align: top;\n",
       "    }\n",
       "\n",
       "    .dataframe thead th {\n",
       "        text-align: right;\n",
       "    }\n",
       "</style>\n",
       "<table border=\"1\" class=\"dataframe\">\n",
       "  <thead>\n",
       "    <tr style=\"text-align: right;\">\n",
       "      <th></th>\n",
       "      <th>User.ID</th>\n",
       "      <th>Book.Title</th>\n",
       "      <th>Book.Rating</th>\n",
       "    </tr>\n",
       "  </thead>\n",
       "  <tbody>\n",
       "    <tr>\n",
       "      <th>6731</th>\n",
       "      <td>3505</td>\n",
       "      <td>The Infinity Concerto</td>\n",
       "      <td>8</td>\n",
       "    </tr>\n",
       "    <tr>\n",
       "      <th>9987</th>\n",
       "      <td>162103</td>\n",
       "      <td>Slowness: A Novel</td>\n",
       "      <td>7</td>\n",
       "    </tr>\n",
       "  </tbody>\n",
       "</table>\n",
       "</div>"
      ],
      "text/plain": [
       "      User.ID             Book.Title  Book.Rating\n",
       "6731     3505  The Infinity Concerto            8\n",
       "9987   162103      Slowness: A Novel            7"
      ]
     },
     "execution_count": 20,
     "metadata": {},
     "output_type": "execute_result"
    }
   ],
   "source": [
    "data[(data['User.ID']==162103) | (data['User.ID']==3505)]"
   ]
  },
  {
   "cell_type": "code",
   "execution_count": 21,
   "metadata": {},
   "outputs": [
    {
     "data": {
      "text/html": [
       "<div>\n",
       "<style scoped>\n",
       "    .dataframe tbody tr th:only-of-type {\n",
       "        vertical-align: middle;\n",
       "    }\n",
       "\n",
       "    .dataframe tbody tr th {\n",
       "        vertical-align: top;\n",
       "    }\n",
       "\n",
       "    .dataframe thead th {\n",
       "        text-align: right;\n",
       "    }\n",
       "</style>\n",
       "<table border=\"1\" class=\"dataframe\">\n",
       "  <thead>\n",
       "    <tr style=\"text-align: right;\">\n",
       "      <th></th>\n",
       "      <th>User.ID</th>\n",
       "      <th>Book.Title</th>\n",
       "      <th>Book.Rating</th>\n",
       "    </tr>\n",
       "  </thead>\n",
       "  <tbody>\n",
       "    <tr>\n",
       "      <th>1</th>\n",
       "      <td>276726</td>\n",
       "      <td>Classical Mythology</td>\n",
       "      <td>5</td>\n",
       "    </tr>\n",
       "    <tr>\n",
       "      <th>9991</th>\n",
       "      <td>162121</td>\n",
       "      <td>The Cloister Walk</td>\n",
       "      <td>7</td>\n",
       "    </tr>\n",
       "    <tr>\n",
       "      <th>9992</th>\n",
       "      <td>162121</td>\n",
       "      <td>Open Water</td>\n",
       "      <td>5</td>\n",
       "    </tr>\n",
       "    <tr>\n",
       "      <th>9993</th>\n",
       "      <td>162121</td>\n",
       "      <td>The Evolution of Jane</td>\n",
       "      <td>8</td>\n",
       "    </tr>\n",
       "    <tr>\n",
       "      <th>9994</th>\n",
       "      <td>162121</td>\n",
       "      <td>AT PARADISE GATE</td>\n",
       "      <td>8</td>\n",
       "    </tr>\n",
       "    <tr>\n",
       "      <th>9995</th>\n",
       "      <td>162121</td>\n",
       "      <td>I Should Have Stayed Home: The Worst Trips of ...</td>\n",
       "      <td>8</td>\n",
       "    </tr>\n",
       "    <tr>\n",
       "      <th>9996</th>\n",
       "      <td>162121</td>\n",
       "      <td>American Fried: Adventures of a Happy Eater.</td>\n",
       "      <td>7</td>\n",
       "    </tr>\n",
       "    <tr>\n",
       "      <th>9997</th>\n",
       "      <td>162121</td>\n",
       "      <td>Cannibal In Manhattan</td>\n",
       "      <td>9</td>\n",
       "    </tr>\n",
       "    <tr>\n",
       "      <th>9998</th>\n",
       "      <td>162121</td>\n",
       "      <td>How to Flirt: A Practical Guide</td>\n",
       "      <td>7</td>\n",
       "    </tr>\n",
       "    <tr>\n",
       "      <th>9999</th>\n",
       "      <td>162121</td>\n",
       "      <td>Twilight</td>\n",
       "      <td>8</td>\n",
       "    </tr>\n",
       "  </tbody>\n",
       "</table>\n",
       "</div>"
      ],
      "text/plain": [
       "      User.ID                                         Book.Title  Book.Rating\n",
       "1      276726                                Classical Mythology            5\n",
       "9991   162121                                  The Cloister Walk            7\n",
       "9992   162121                                         Open Water            5\n",
       "9993   162121                              The Evolution of Jane            8\n",
       "9994   162121                                   AT PARADISE GATE            8\n",
       "9995   162121  I Should Have Stayed Home: The Worst Trips of ...            8\n",
       "9996   162121       American Fried: Adventures of a Happy Eater.            7\n",
       "9997   162121                              Cannibal In Manhattan            9\n",
       "9998   162121                    How to Flirt: A Practical Guide            7\n",
       "9999   162121                                           Twilight            8"
      ]
     },
     "execution_count": 21,
     "metadata": {},
     "output_type": "execute_result"
    }
   ],
   "source": [
    "data[(data['User.ID']==276726) | (data['User.ID']==162121)]"
   ]
  },
  {
   "attachments": {},
   "cell_type": "markdown",
   "metadata": {},
   "source": [
    "Writing function to get recommendation"
   ]
  },
  {
   "cell_type": "code",
   "execution_count": 22,
   "metadata": {},
   "outputs": [],
   "source": [
    "def recommend(user_id, top_n=5):\n",
    "    print('You ask recommendation for this user:\\n',data[data['User.ID']==user_id])\n",
    "    array = user_sim_df.sort_values([user_id],ascending=False).head(top_n).index\n",
    "    print(\"==============================================================================\\nRecommended titles are:\")\n",
    "    print(data[data['User.ID'].isin(array)])"
   ]
  },
  {
   "cell_type": "code",
   "execution_count": 23,
   "metadata": {},
   "outputs": [
    {
     "name": "stdout",
     "output_type": "stream",
     "text": [
      "You ask recommendation for this user:\n",
      "       User.ID         Book.Title  Book.Rating\n",
      "9987   162103  Slowness: A Novel            7\n",
      "==============================================================================\n",
      "Recommended titles are:\n",
      "      User.ID                                   Book.Title  Book.Rating\n",
      "5719     2596                      My Legendary Girlfriend            5\n",
      "6142     2982                    Night Visitor (Timeswept)            8\n",
      "6143     2982                     The Night the Stars Fell            8\n",
      "6144     2983                               A Man of Steel           10\n",
      "6149     2996                    Cinnamon (Shooting Stars)            7\n",
      "6150     2996                                    Home Song            8\n",
      "6151     2996  Surrender to Love (Avon Historical Romance)            7\n",
      "6152     2996                                 Spring Fancy            7\n",
      "6153     2996                                    Surrender            7\n",
      "6731     3505                        The Infinity Concerto            8\n"
     ]
    }
   ],
   "source": [
    "recommend(162103)"
   ]
  },
  {
   "cell_type": "code",
   "execution_count": 24,
   "metadata": {},
   "outputs": [
    {
     "name": "stdout",
     "output_type": "stream",
     "text": [
      "You ask recommendation for this user:\n",
      "       User.ID                                         Book.Title  Book.Rating\n",
      "2349   278831  Jerk on One End: Reflections of a Mediocre Fis...           10\n",
      "==============================================================================\n",
      "Recommended titles are:\n",
      "      User.ID                                         Book.Title  Book.Rating\n",
      "1      276726                                Classical Mythology            5\n",
      "6144     2983                                     A Man of Steel           10\n",
      "6145     2985  Groom For Maggie (Whirlwind Weddings) (Silhoue...            1\n",
      "6146     2991                                     The Dark Druid            3\n",
      "6154     3003                                     The Apprentice            5\n",
      "6155     3003                                  The Seventh Night            7\n"
     ]
    }
   ],
   "source": [
    "recommend(278831)"
   ]
  },
  {
   "attachments": {},
   "cell_type": "markdown",
   "metadata": {},
   "source": [
    "### Dimension Reductionality Techniques\n",
    "\n",
    "#### SVD (Single Value Decomposition)\n",
    "SVD is a dimensionality reduction technique that is commonly used in recommendation systems. Here's an overview of the steps involved in utilizing SVD for recommendation:\n",
    "\n",
    "- Matrix Preparation: The user-item interaction data is represented as a matrix where rows correspond to users and columns correspond to items. The matrix is typically sparse, with many missing entries.\n",
    "\n",
    "- SVD Decomposition: SVD is applied to the user-item matrix to decompose it into three matrices: U, Σ, and V^T.\n",
    "    - U represents the user latent factor matrix and contains information about user preferences and characteristics.\n",
    "    - Σ is a diagonal matrix that contains singular values, which represent the importance or strength of each latent factor.\n",
    "    - V^T represents the item latent factor matrix and contains information about item attributes and characteristics.\n",
    "\n",
    "- Dimensionality Reduction: To handle the sparsity and reduce the dimensionality of the matrices, the singular values and corresponding factors are truncated by selecting the top-k singular values and their corresponding columns from U and V^T. This reduces the dimensionality of the matrices and retains the most important latent factors.\n",
    "\n",
    "- Generating Recommendations: With the reduced matrices, missing entries in the user-item matrix can be estimated by multiplying the truncated matrices. The predicted values represent the ratings or preferences that the user might give to the items. Based on these predictions, top-N items with the highest predicted ratings can be recommended to the user."
   ]
  },
  {
   "attachments": {},
   "cell_type": "markdown",
   "metadata": {},
   "source": [
    "Writing custom class for recommender using svd"
   ]
  },
  {
   "cell_type": "code",
   "execution_count": 25,
   "metadata": {},
   "outputs": [],
   "source": [
    "class UserBasedRecommender:\n",
    "    def __init__(self, metric='cosine', n_components=50):\n",
    "        self.metric = metric\n",
    "        self.n_components = n_components\n",
    "        self.data = None\n",
    "        self.user_sim_df = None\n",
    "    \n",
    "    def fit(self, data):\n",
    "        self.user_data_df = data\n",
    "        user_data_df = data.pivot(index=data.columns[0], columns=data.columns[1], values=data.columns[2]).fillna(0)\n",
    "\n",
    "        svd = TruncatedSVD(n_components=self.n_components)\n",
    "        user_data_svd = svd.fit_transform(user_data_df)\n",
    "   \n",
    "        user_sim_matrix = 1 - pairwise_distances(user_data_svd, metric=self.metric)\n",
    "        np.fill_diagonal(user_sim_matrix, 0)\n",
    "        \n",
    "        user_sim_df = pd.DataFrame(user_sim_matrix, index=data.iloc[:, 0].unique(), columns=data.iloc[:, 0].unique())\n",
    "        self.user_sim_df = user_sim_df\n",
    "\n",
    "    def recommend(self, user_id, top_n=5):\n",
    "        print('You asked for recommendations for this user:\\n', data[data.iloc[:, 0] == user_id])\n",
    "        \n",
    "        user_sim_scores = self.user_sim_df[user_id]\n",
    "        user_sim_scores = user_sim_scores.sort_values(ascending=False).head(top_n)\n",
    "        array = list(user_sim_scores.index)\n",
    "        if user_id in array:\n",
    "            array.remove(user_id)\n",
    "        \n",
    "        print(\"==============================================================================\\nRecommended titles are:\")\n",
    "        print(data[data.iloc[:, 0].isin(array)])"
   ]
  },
  {
   "cell_type": "code",
   "execution_count": 26,
   "metadata": {},
   "outputs": [
    {
     "name": "stdout",
     "output_type": "stream",
     "text": [
      "You asked for recommendations for this user:\n",
      "       User.ID         Book.Title  Book.Rating\n",
      "9987   162103  Slowness: A Novel            7\n",
      "==============================================================================\n",
      "Recommended titles are:\n",
      "      User.ID                                         Book.Title  Book.Rating\n",
      "437    277128                                     L'home del sac            6\n",
      "438    277128                  GrÃ cies per la propina (Columna)            8\n",
      "824    277433  Scottish Folk and Fairy Tales (Penguin Popular...            5\n",
      "825    277433          Terrible Times (Eddie Dickens Trilogy S.)            7\n",
      "5719     2596                            My Legendary Girlfriend            5\n",
      "6731     3505                              The Infinity Concerto            8\n",
      "7686     3862        Music of the Swamp (Front Porch Paperbacks)            7\n"
     ]
    }
   ],
   "source": [
    "rec = UserBasedRecommender()\n",
    "rec.fit(data)\n",
    "rec.recommend(162103,top_n=5)"
   ]
  },
  {
   "attachments": {},
   "cell_type": "markdown",
   "metadata": {},
   "source": [
    "### Recommendation System using various distance metrics"
   ]
  },
  {
   "cell_type": "code",
   "execution_count": 27,
   "metadata": {},
   "outputs": [
    {
     "name": "stdout",
     "output_type": "stream",
     "text": [
      "You asked for recommendations for this user:\n",
      "       User.ID         Book.Title  Book.Rating\n",
      "9987   162103  Slowness: A Novel            7\n",
      "==============================================================================\n",
      "Recommended titles are:\n",
      "      User.ID                                         Book.Title  Book.Rating\n",
      "991    277574                            Magic House of Numbers.           10\n",
      "2115   278545                             A Place Called Freedom            9\n",
      "2116   278545                                       Body Battles            9\n",
      "2117   278545  The Complete I Ching: The Definitive Translati...            8\n",
      "8014     4090           Manual Practico del Astronomo Aficionado            8\n",
      "8015     4090  Amate a TI Mismo: Cambiaras Tu Vida : Manual D...            7\n",
      "8016     4090  El triÃ¡ngulo (ColecciÃ³n Autores espaÃ±oles e...            8\n",
      "8017     4090              Las claves de la afectividad femenina            8\n",
      "8018     4090                         La Historia de San Michele           10\n",
      "8623   161099                                        The Promise            5\n",
      "8624   161099                                        The Passion            5\n",
      "8625   161099  The Great and Secret Show: The First Book of t...            5\n",
      "8626   161099                            Collected Poems Reissue            5\n",
      "8764   161255                              Dust to dust: Stories            3\n"
     ]
    }
   ],
   "source": [
    "rec = UserBasedRecommender(metric='euclidean')\n",
    "rec.fit(data)\n",
    "rec.recommend(162103,top_n=5)"
   ]
  },
  {
   "cell_type": "code",
   "execution_count": 28,
   "metadata": {},
   "outputs": [
    {
     "name": "stdout",
     "output_type": "stream",
     "text": [
      "You asked for recommendations for this user:\n",
      "       User.ID         Book.Title  Book.Rating\n",
      "9987   162103  Slowness: A Novel            7\n",
      "==============================================================================\n",
      "Recommended titles are:\n",
      "      User.ID                                   Book.Title  Book.Rating\n",
      "437    277128                               L'home del sac            6\n",
      "438    277128            GrÃ cies per la propina (Columna)            8\n",
      "5443     2349  The Ten Thousand: A Novel of Ancient Greece            9\n",
      "5444     2349        Stell dir vor. Kreativ visualisieren.            3\n",
      "5719     2596                      My Legendary Girlfriend            5\n",
      "6731     3505                        The Infinity Concerto            8\n",
      "7686     3862  Music of the Swamp (Front Porch Paperbacks)            7\n"
     ]
    }
   ],
   "source": [
    "rec = UserBasedRecommender(metric='correlation')\n",
    "rec.fit(data)\n",
    "rec.recommend(162103,top_n=5)"
   ]
  },
  {
   "cell_type": "code",
   "execution_count": 29,
   "metadata": {},
   "outputs": [
    {
     "name": "stdout",
     "output_type": "stream",
     "text": [
      "You asked for recommendations for this user:\n",
      "       User.ID         Book.Title  Book.Rating\n",
      "9987   162103  Slowness: A Novel            7\n",
      "==============================================================================\n",
      "Recommended titles are:\n",
      "      User.ID                                         Book.Title  Book.Rating\n",
      "3885     1267         Battlefield Earth: A Saga of the Year 3000            5\n",
      "4546     1910                       This is My Daughter: A Novel            7\n",
      "4547     1915  Dance upon the Air (Three Sisters Island Trilogy)            7\n",
      "6361     3305  Dr. Pitcairn's Complete Guide to Natural Healt...            7\n",
      "6362     3305  Mothering the Mother: How a Doula Can Help You...           10\n",
      "9069   161511          I Don't Know But I've Been Told : A Novel           10\n",
      "9070   161511                                        Burger Wuss            8\n",
      "9071   161511                      No Mirrors in My Nana's House            6\n",
      "9072   161511                  Miguel De Cervantes's Don Quixote            9\n",
      "9073   161511  You Read to Me &amp; I'll Read to You: Stories...           10\n",
      "9074   161511                           My Father Is in the Navy            9\n",
      "9075   161511  What to Expect When You're Expecting, Third Ed...            8\n",
      "9076   161511                               The Conscious Reader            7\n",
      "9077   161511  Terms of Adornment : The Ultimate Guide to Acc...            9\n",
      "9078   161511                                          Dreamland            6\n"
     ]
    }
   ],
   "source": [
    "rec = UserBasedRecommender(metric='cityblock')\n",
    "rec.fit(data)\n",
    "rec.recommend(162103,top_n=5)"
   ]
  }
 ],
 "metadata": {
  "kernelspec": {
   "display_name": "Python 3",
   "language": "python",
   "name": "python3"
  },
  "language_info": {
   "codemirror_mode": {
    "name": "ipython",
    "version": 3
   },
   "file_extension": ".py",
   "mimetype": "text/x-python",
   "name": "python",
   "nbconvert_exporter": "python",
   "pygments_lexer": "ipython3",
   "version": "3.10.6"
  },
  "orig_nbformat": 4
 },
 "nbformat": 4,
 "nbformat_minor": 2
}
